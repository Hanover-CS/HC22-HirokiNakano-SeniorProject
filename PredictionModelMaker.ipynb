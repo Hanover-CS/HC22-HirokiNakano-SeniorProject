{
  "nbformat": 4,
  "nbformat_minor": 0,
  "metadata": {
    "colab": {
      "name": "PredictionModelMaker.ipynb",
      "provenance": [],
      "collapsed_sections": [],
      "include_colab_link": true
    },
    "kernelspec": {
      "name": "python3",
      "display_name": "Python 3"
    },
    "language_info": {
      "name": "python"
    }
  },
  "cells": [
    {
      "cell_type": "markdown",
      "metadata": {
        "id": "view-in-github",
        "colab_type": "text"
      },
      "source": [
        "<a href=\"https://colab.research.google.com/github/Hanover-CS/HC22-HirokiNakano-SeniorProject/blob/main/PredictionModelMaker.ipynb\" target=\"_parent\"><img src=\"https://colab.research.google.com/assets/colab-badge.svg\" alt=\"Open In Colab\"/></a>"
      ]
    },
    {
      "cell_type": "code",
      "metadata": {
        "id": "sX_Wd5Bi4Ycj"
      },
      "source": [
        "#@title Enter your preferred settings as an integer\n",
        "\n",
        "\n",
        "INPUT_LEN = 20#@param{type:\"number\"}\n",
        "EPOCHS =  10#@param{type:\"number\"}\n",
        "BATCH_SIZE =  50#@param{type:\"number\"}\n",
        "numOfHiddenLayers =  5#@param{type:\"number\"}\n",
        "\n",
        "#@markdown <big>type your name (or nickname)\n",
        "name = \"lauren\" #@param{type:\"string\"}\n",
        "\n",
        "#@markdown <big>then click \"Runtime\" -> \"Run all\". scroll down to check your result. \n"
      ],
      "execution_count": null,
      "outputs": []
    },
    {
      "cell_type": "markdown",
      "source": [
        "Note:\n",
        "**Input_len** means how many consecutive days used to predict the next day's price.\n",
        "\n",
        "---\n",
        "\n",
        "\n",
        "**Epochs** means how many time do you train your model with the test data. It is lke how many times you study with the same textbook.\n",
        "\n",
        "\n",
        "---\n",
        "\n",
        "**Batch_size** is the interval at which the model is updated in training. The less it is, the more frequently it is updated. It's like taking a break after studying a specific number of chapters.\n",
        "\n",
        "\n",
        "---\n",
        "\n",
        "**numOfHiddenLayers** is a number of hidden layers which you want to put into your model. The more number may give you more accurate model but it takes long time and a lot of GPU resource."
      ],
      "metadata": {
        "id": "6Y9zSgZg40fG"
      }
    },
    {
      "cell_type": "code",
      "source": [
        "import pandas as pd\n",
        "import numpy as np\n",
        "import matplotlib.pyplot as plt\n",
        "from sklearn.preprocessing import MinMaxScaler\n",
        "import time\n",
        "HIST_PATH = '/content/drive/MyDrive/ColabNotebooks/ForEX_AI/dollar-yen-exchange-rate-historical-chart.csv'\n",
        "# HIST_PATH = '/content/drive/MyDrive/ColabNotebooks/ForEX_AI/euro-dollar-exchange-rate-historical-chart.csv'\n",
        "# HIST_PATH = '/content/drive/MyDrive/ColabNotebooks/ForEX_AI/pound-dollar-exchange-rate-historical-chart.csv'\n",
        "RegularizationFlag = False\n",
        "RANKING_PATH = \"/content/drive/MyDrive/ColabNotebooks/ForEX_AI/ranking.csv\""
      ],
      "metadata": {
        "id": "Vsz_omiYg88T"
      },
      "execution_count": null,
      "outputs": []
    },
    {
      "cell_type": "code",
      "source": [
        "# show current ranking\n",
        "from google.colab import data_table\n",
        "data_table.enable_dataframe_formatter()\n",
        "df_ranking = pd.read_csv(RANKING_PATH)\n",
        "display(df_ranking)"
      ],
      "metadata": {
        "colab": {
          "base_uri": "https://localhost:8080/",
          "height": 218
        },
        "id": "hofkB6S4RlZH",
        "outputId": "ba9b682c-7688-4ca0-d674-ecad38dbcc3b"
      },
      "execution_count": null,
      "outputs": [
        {
          "output_type": "display_data",
          "data": {
            "application/vnd.google.colaboratory.module+javascript": "\n      import \"https://ssl.gstatic.com/colaboratory/data_table/81f25a011006ed3d/data_table.js\";\n\n      window.createDataTable({\n        data: [[{\n            'v': 0,\n            'f': \"0\",\n        },\n\"Hiro test5\",\n{\n            'v': 11.94041342733246,\n            'f': \"11.94041342733246\",\n        },\n{\n            'v': 2.0321547546736687,\n            'f': \"2.0321547546736687\",\n        },\n{\n            'v': 5.875740220999999,\n            'f': \"5.875740220999999\",\n        },\n{\n            'v': 15,\n            'f': \"15\",\n        },\n{\n            'v': 5,\n            'f': \"5\",\n        },\n{\n            'v': 32,\n            'f': \"32\",\n        },\n{\n            'v': 2,\n            'f': \"2\",\n        }],\n [{\n            'v': 1,\n            'f': \"1\",\n        },\n\"Hiro test2\",\n{\n            'v': 12.668916403649693,\n            'f': \"12.668916403649693\",\n        },\n{\n            'v': 1.6145385771520389,\n            'f': \"1.6145385771520389\",\n        },\n{\n            'v': 7.846772187999987,\n            'f': \"7.846772187999987\",\n        },\n{\n            'v': 10,\n            'f': \"10\",\n        },\n{\n            'v': 5,\n            'f': \"5\",\n        },\n{\n            'v': 10,\n            'f': \"10\",\n        },\n{\n            'v': 3,\n            'f': \"3\",\n        }],\n [{\n            'v': 2,\n            'f': \"2\",\n        },\n\"Hiro test6\",\n{\n            'v': 12.672962734197172,\n            'f': \"12.672962734197172\",\n        },\n{\n            'v': 2.0321547546736687,\n            'f': \"2.0321547546736687\",\n        },\n{\n            'v': 6.236219316,\n            'f': \"6.236219316\",\n        },\n{\n            'v': 15,\n            'f': \"15\",\n        },\n{\n            'v': 5,\n            'f': \"5\",\n        },\n{\n            'v': 32,\n            'f': \"32\",\n        },\n{\n            'v': 2,\n            'f': \"2\",\n        }],\n [{\n            'v': 3,\n            'f': \"3\",\n        },\n\"Hiro test3\",\n{\n            'v': 19.770040776399505,\n            'f': \"19.770040776399505\",\n        },\n{\n            'v': 1.7275217130202638,\n            'f': \"1.7275217130202638\",\n        },\n{\n            'v': 11.444163409000002,\n            'f': \"11.444163409000002\",\n        },\n{\n            'v': 20,\n            'f': \"20\",\n        },\n{\n            'v': 10,\n            'f': \"10\",\n        },\n{\n            'v': 20,\n            'f': \"20\",\n        },\n{\n            'v': 20,\n            'f': \"20\",\n        }],\n [{\n            'v': 4,\n            'f': \"4\",\n        },\n\"Hiro test1\",\n{\n            'v': 29.605779900078684,\n            'f': \"29.605779900078684\",\n        },\n{\n            'v': 2.331351677136347,\n            'f': \"2.331351677136347\",\n        },\n{\n            'v': 12.698976388000004,\n            'f': \"12.698976388000004\",\n        },\n{\n            'v': 2,\n            'f': \"2\",\n        },\n{\n            'v': 2,\n            'f': \"2\",\n        },\n{\n            'v': 2,\n            'f': \"2\",\n        },\n{\n            'v': 2,\n            'f': \"2\",\n        }],\n [{\n            'v': 5,\n            'f': \"5\",\n        },\n\"Hiro test4\",\n{\n            'v': 690.1928476383644,\n            'f': \"690.1928476383644\",\n        },\n{\n            'v': 4.015501828180341,\n            'f': \"4.015501828180341\",\n        },\n{\n            'v': 171.882090252,\n            'f': \"171.882090252\",\n        },\n{\n            'v': 10,\n            'f': \"10\",\n        },\n{\n            'v': 100,\n            'f': \"100\",\n        },\n{\n            'v': 10,\n            'f': \"10\",\n        },\n{\n            'v': 5,\n            'f': \"5\",\n        }]],\n        columns: [[\"number\", \"index\"], [\"string\", \"name\"], [\"number\", \"score\"], [\"number\", \"MSE\"], [\"number\", \"runtime\"], [\"number\", \"input len\"], [\"number\", \"epochs\"], [\"number\", \"batch size\"], [\"number\", \"hidden layers\"]],\n        columnOptions: [{\"width\": \"1px\", \"className\": \"index_column\"}],\n        rowsPerPage: 25,\n        helpUrl: \"https://colab.research.google.com/notebooks/data_table.ipynb\",\n        suppressOutputScrolling: true,\n        minimumWidth: undefined,\n      });\n    ",
            "text/html": [
              "\n",
              "  <div id=\"df-dfed4718-0a56-43d2-8a29-c0cd400381b5\">\n",
              "    <div class=\"colab-df-container\">\n",
              "      <div>\n",
              "<style scoped>\n",
              "    .dataframe tbody tr th:only-of-type {\n",
              "        vertical-align: middle;\n",
              "    }\n",
              "\n",
              "    .dataframe tbody tr th {\n",
              "        vertical-align: top;\n",
              "    }\n",
              "\n",
              "    .dataframe thead th {\n",
              "        text-align: right;\n",
              "    }\n",
              "</style>\n",
              "<table border=\"1\" class=\"dataframe\">\n",
              "  <thead>\n",
              "    <tr style=\"text-align: right;\">\n",
              "      <th></th>\n",
              "      <th>name</th>\n",
              "      <th>score</th>\n",
              "      <th>MSE</th>\n",
              "      <th>runtime</th>\n",
              "      <th>input len</th>\n",
              "      <th>epochs</th>\n",
              "      <th>batch size</th>\n",
              "      <th>hidden layers</th>\n",
              "    </tr>\n",
              "  </thead>\n",
              "  <tbody>\n",
              "    <tr>\n",
              "      <th>0</th>\n",
              "      <td>Hiro test5</td>\n",
              "      <td>11.940413</td>\n",
              "      <td>2.032155</td>\n",
              "      <td>5.875740</td>\n",
              "      <td>15</td>\n",
              "      <td>5</td>\n",
              "      <td>32</td>\n",
              "      <td>2</td>\n",
              "    </tr>\n",
              "    <tr>\n",
              "      <th>1</th>\n",
              "      <td>Hiro test2</td>\n",
              "      <td>12.668916</td>\n",
              "      <td>1.614539</td>\n",
              "      <td>7.846772</td>\n",
              "      <td>10</td>\n",
              "      <td>5</td>\n",
              "      <td>10</td>\n",
              "      <td>3</td>\n",
              "    </tr>\n",
              "    <tr>\n",
              "      <th>2</th>\n",
              "      <td>Hiro test6</td>\n",
              "      <td>12.672963</td>\n",
              "      <td>2.032155</td>\n",
              "      <td>6.236219</td>\n",
              "      <td>15</td>\n",
              "      <td>5</td>\n",
              "      <td>32</td>\n",
              "      <td>2</td>\n",
              "    </tr>\n",
              "    <tr>\n",
              "      <th>3</th>\n",
              "      <td>Hiro test3</td>\n",
              "      <td>19.770041</td>\n",
              "      <td>1.727522</td>\n",
              "      <td>11.444163</td>\n",
              "      <td>20</td>\n",
              "      <td>10</td>\n",
              "      <td>20</td>\n",
              "      <td>20</td>\n",
              "    </tr>\n",
              "    <tr>\n",
              "      <th>4</th>\n",
              "      <td>Hiro test1</td>\n",
              "      <td>29.605780</td>\n",
              "      <td>2.331352</td>\n",
              "      <td>12.698976</td>\n",
              "      <td>2</td>\n",
              "      <td>2</td>\n",
              "      <td>2</td>\n",
              "      <td>2</td>\n",
              "    </tr>\n",
              "    <tr>\n",
              "      <th>5</th>\n",
              "      <td>Hiro test4</td>\n",
              "      <td>690.192848</td>\n",
              "      <td>4.015502</td>\n",
              "      <td>171.882090</td>\n",
              "      <td>10</td>\n",
              "      <td>100</td>\n",
              "      <td>10</td>\n",
              "      <td>5</td>\n",
              "    </tr>\n",
              "  </tbody>\n",
              "</table>\n",
              "</div>\n",
              "      <button class=\"colab-df-convert\" onclick=\"convertToInteractive('df-dfed4718-0a56-43d2-8a29-c0cd400381b5')\"\n",
              "              title=\"Convert this dataframe to an interactive table.\"\n",
              "              style=\"display:none;\">\n",
              "        \n",
              "  <svg xmlns=\"http://www.w3.org/2000/svg\" height=\"24px\"viewBox=\"0 0 24 24\"\n",
              "       width=\"24px\">\n",
              "    <path d=\"M0 0h24v24H0V0z\" fill=\"none\"/>\n",
              "    <path d=\"M18.56 5.44l.94 2.06.94-2.06 2.06-.94-2.06-.94-.94-2.06-.94 2.06-2.06.94zm-11 1L8.5 8.5l.94-2.06 2.06-.94-2.06-.94L8.5 2.5l-.94 2.06-2.06.94zm10 10l.94 2.06.94-2.06 2.06-.94-2.06-.94-.94-2.06-.94 2.06-2.06.94z\"/><path d=\"M17.41 7.96l-1.37-1.37c-.4-.4-.92-.59-1.43-.59-.52 0-1.04.2-1.43.59L10.3 9.45l-7.72 7.72c-.78.78-.78 2.05 0 2.83L4 21.41c.39.39.9.59 1.41.59.51 0 1.02-.2 1.41-.59l7.78-7.78 2.81-2.81c.8-.78.8-2.07 0-2.86zM5.41 20L4 18.59l7.72-7.72 1.47 1.35L5.41 20z\"/>\n",
              "  </svg>\n",
              "      </button>\n",
              "      \n",
              "  <style>\n",
              "    .colab-df-container {\n",
              "      display:flex;\n",
              "      flex-wrap:wrap;\n",
              "      gap: 12px;\n",
              "    }\n",
              "\n",
              "    .colab-df-convert {\n",
              "      background-color: #E8F0FE;\n",
              "      border: none;\n",
              "      border-radius: 50%;\n",
              "      cursor: pointer;\n",
              "      display: none;\n",
              "      fill: #1967D2;\n",
              "      height: 32px;\n",
              "      padding: 0 0 0 0;\n",
              "      width: 32px;\n",
              "    }\n",
              "\n",
              "    .colab-df-convert:hover {\n",
              "      background-color: #E2EBFA;\n",
              "      box-shadow: 0px 1px 2px rgba(60, 64, 67, 0.3), 0px 1px 3px 1px rgba(60, 64, 67, 0.15);\n",
              "      fill: #174EA6;\n",
              "    }\n",
              "\n",
              "    [theme=dark] .colab-df-convert {\n",
              "      background-color: #3B4455;\n",
              "      fill: #D2E3FC;\n",
              "    }\n",
              "\n",
              "    [theme=dark] .colab-df-convert:hover {\n",
              "      background-color: #434B5C;\n",
              "      box-shadow: 0px 1px 3px 1px rgba(0, 0, 0, 0.15);\n",
              "      filter: drop-shadow(0px 1px 2px rgba(0, 0, 0, 0.3));\n",
              "      fill: #FFFFFF;\n",
              "    }\n",
              "  </style>\n",
              "\n",
              "      <script>\n",
              "        const buttonEl =\n",
              "          document.querySelector('#df-dfed4718-0a56-43d2-8a29-c0cd400381b5 button.colab-df-convert');\n",
              "        buttonEl.style.display =\n",
              "          google.colab.kernel.accessAllowed ? 'block' : 'none';\n",
              "\n",
              "        async function convertToInteractive(key) {\n",
              "          const element = document.querySelector('#df-dfed4718-0a56-43d2-8a29-c0cd400381b5');\n",
              "          const dataTable =\n",
              "            await google.colab.kernel.invokeFunction('convertToInteractive',\n",
              "                                                     [key], {});\n",
              "          if (!dataTable) return;\n",
              "\n",
              "          const docLinkHtml = 'Like what you see? Visit the ' +\n",
              "            '<a target=\"_blank\" href=https://colab.research.google.com/notebooks/data_table.ipynb>data table notebook</a>'\n",
              "            + ' to learn more about interactive tables.';\n",
              "          element.innerHTML = '';\n",
              "          dataTable['output_type'] = 'display_data';\n",
              "          await google.colab.output.renderOutput(dataTable, element);\n",
              "          const docLink = document.createElement('div');\n",
              "          docLink.innerHTML = docLinkHtml;\n",
              "          element.appendChild(docLink);\n",
              "        }\n",
              "      </script>\n",
              "    </div>\n",
              "  </div>\n",
              "  "
            ],
            "text/plain": [
              "         name       score       MSE  ...  epochs  batch size  hidden layers\n",
              "0  Hiro test5   11.940413  2.032155  ...       5          32              2\n",
              "1  Hiro test2   12.668916  1.614539  ...       5          10              3\n",
              "2  Hiro test6   12.672963  2.032155  ...       5          32              2\n",
              "3  Hiro test3   19.770041  1.727522  ...      10          20             20\n",
              "4  Hiro test1   29.605780  2.331352  ...       2           2              2\n",
              "5  Hiro test4  690.192848  4.015502  ...     100          10              5\n",
              "\n",
              "[6 rows x 8 columns]"
            ]
          },
          "metadata": {}
        }
      ]
    },
    {
      "cell_type": "code",
      "source": [
        "from google.colab import drive\n",
        "drive.mount('/content/drive')"
      ],
      "metadata": {
        "colab": {
          "base_uri": "https://localhost:8080/"
        },
        "id": "uV3H_cuIUR5l",
        "outputId": "e6352a7b-3110-4b31-dcee-5efd693bb21f"
      },
      "execution_count": null,
      "outputs": [
        {
          "output_type": "stream",
          "name": "stdout",
          "text": [
            "Drive already mounted at /content/drive; to attempt to forcibly remount, call drive.mount(\"/content/drive\", force_remount=True).\n"
          ]
        }
      ]
    },
    {
      "cell_type": "code",
      "metadata": {
        "colab": {
          "base_uri": "https://localhost:8080/"
        },
        "id": "pHlEKqe6yMju",
        "outputId": "89c5f661-479d-4ac1-9fd7-45904ae21c17"
      },
      "source": [
        "# timer start\n",
        "start_time = time.process_time()\n",
        "df = pd.read_csv(HIST_PATH, header=1, usecols=[1])\n",
        "print(df)"
      ],
      "execution_count": null,
      "outputs": [
        {
          "output_type": "stream",
          "name": "stdout",
          "text": [
            "       357.7300\n",
            "0      357.8100\n",
            "1      357.8600\n",
            "2      357.8700\n",
            "3      357.8200\n",
            "4      357.9500\n",
            "...         ...\n",
            "12969  109.7820\n",
            "12970  109.9275\n",
            "12971  109.9275\n",
            "12972  110.0350\n",
            "12973  110.0710\n",
            "\n",
            "[12974 rows x 1 columns]\n"
          ]
        }
      ]
    },
    {
      "cell_type": "code",
      "metadata": {
        "id": "GoJwDbz30-NB",
        "colab": {
          "base_uri": "https://localhost:8080/",
          "height": 282
        },
        "outputId": "c1fae8d6-691f-402f-8f74-5a4d49631752"
      },
      "source": [
        "# Change rates into 0-1 scale. The highest rate is 1, the lowest is 0\n",
        "sc = MinMaxScaler(feature_range=(0,1))\n",
        "prices = sc.fit_transform(df)\n",
        "fig, ax = plt.subplots()\n",
        "x = np.arange(len(prices))\n",
        "ax.plot(x, prices)"
      ],
      "execution_count": null,
      "outputs": [
        {
          "output_type": "execute_result",
          "data": {
            "text/plain": [
              "[<matplotlib.lines.Line2D at 0x7f8ed36f5e50>]"
            ]
          },
          "metadata": {},
          "execution_count": 25
        },
        {
          "output_type": "display_data",
          "data": {
            "image/png": "[encoded data removed]",
            "text/plain": [
              "<Figure size 432x288 with 1 Axes>"
            ]
          },
          "metadata": {
            "needs_background": "light"
          }
        }
      ]
    },
    {
      "cell_type": "code",
      "metadata": {
        "id": "6FfdGsqJ2tsc"
      },
      "source": [
        "# create a set of inputs that correspond to INPUT_LEN, and its output.\n",
        "def create_data_for_model(prices):\n",
        "  #input x=[x1, x2,...] -> output y\n",
        "\n",
        "  X, Y = [], []\n",
        "  prices_len = len(prices)\n",
        "  for i, _ in enumerate(prices):\n",
        "    if (i + INPUT_LEN + 1 >= prices_len):\n",
        "      break\n",
        "    X.append(prices[i:i + INPUT_LEN])\n",
        "    Y.append(prices[i + INPUT_LEN + 1])\n",
        "  \n",
        "  X = np.array(X)\n",
        "  Y = np.array(Y)\n",
        "\n",
        "  split_index = int(len(prices) * 0.5)\n",
        "  X_train = X[:split_index]\n",
        "  Y_train = Y[:split_index]\n",
        "  X_test = X[split_index:]\n",
        "  Y_test = Y[split_index:]\n",
        "\n",
        "  return X_train, Y_train, X_test, Y_test"
      ],
      "execution_count": null,
      "outputs": []
    },
    {
      "cell_type": "code",
      "metadata": {
        "id": "9XD-NFMI3-iL"
      },
      "source": [
        "X_train, Y_train, X_test, Y_test = create_data_for_model(prices)"
      ],
      "execution_count": null,
      "outputs": []
    },
    {
      "cell_type": "code",
      "source": [
        "# Fit into batch size\n",
        "import math\n",
        "idealTrainSize = len(X_train)//BATCH_SIZE\n",
        "idealTrainSize = idealTrainSize * BATCH_SIZE\n",
        "print(idealTrainSize)\n",
        "X_train = X_train[:idealTrainSize]\n",
        "Y_train = Y_train[:idealTrainSize]\n",
        "print(len(X_train))\n",
        "print(len(Y_train))\n",
        "\n",
        "idealTestSize = len(X_test)//BATCH_SIZE\n",
        "idealTestSize = idealTestSize * BATCH_SIZE\n",
        "print(idealTestSize)\n",
        "X_test = X_test[:idealTestSize]\n",
        "Y_test = Y_test[:idealTestSize]\n",
        "print(len(X_test))\n",
        "print(len(Y_test))"
      ],
      "metadata": {
        "colab": {
          "base_uri": "https://localhost:8080/"
        },
        "id": "c6-vMA_8Q2Cr",
        "outputId": "2a787c97-f915-4b14-c299-95ab290f2134"
      },
      "execution_count": null,
      "outputs": [
        {
          "output_type": "stream",
          "name": "stdout",
          "text": [
            "6450\n",
            "6450\n",
            "6450\n",
            "6450\n",
            "6450\n",
            "6450\n"
          ]
        }
      ]
    },
    {
      "cell_type": "code",
      "metadata": {
        "id": "Zt2AG4c75FVs"
      },
      "source": [
        "import tensorflow\n",
        "from tensorflow.keras.models import Sequential\n",
        "from tensorflow.keras.layers import Dense, Activation, Flatten\n",
        "import matplotlib.pyplot as plt\n",
        "import json"
      ],
      "execution_count": null,
      "outputs": []
    },
    {
      "cell_type": "code",
      "metadata": {
        "id": "1RMLXZqF5It6"
      },
      "source": [
        "tensorflow.random.set_seed(0)\n",
        "\n",
        "# Creating a model\n",
        "model = Sequential()\n",
        "model.add(Flatten(input_shape=[INPUT_LEN, 1]))\n",
        "# add hidden layers\n",
        "if numOfHiddenLayers<1:\n",
        "  numOfHiddenLayers = 1\n",
        "for i in range(numOfHiddenLayers):\n",
        "  if RegularizationFlag:\n",
        "      model.add(Dense(32, kernel_regularizer=tensorflow.keras.regularizers.l2(0.001)))\n",
        "  else:\n",
        "    model.add(Dense(32))\n",
        "  model.add(Activation(\"relu\"))\n",
        "model.add(Dense(1))\n",
        "model.add(Activation(\"linear\"))"
      ],
      "execution_count": null,
      "outputs": []
    },
    {
      "cell_type": "code",
      "metadata": {
        "id": "vio_5ScH5Snh"
      },
      "source": [
        "model.compile(loss=\"mse\",   \n",
        "              optimizer=\"adam\")"
      ],
      "execution_count": null,
      "outputs": []
    },
    {
      "cell_type": "code",
      "metadata": {
        "colab": {
          "base_uri": "https://localhost:8080/"
        },
        "id": "ZiaiU9Tg5bOk",
        "outputId": "25f446b6-f504-4642-dbda-129468c60f74"
      },
      "source": [
        "model.fit(X_train, Y_train, batch_size=BATCH_SIZE, epochs=EPOCHS)"
      ],
      "execution_count": null,
      "outputs": [
        {
          "output_type": "stream",
          "name": "stdout",
          "text": [
            "Epoch 1/10\n",
            "129/129 [==============================] - 1s 2ms/step - loss: 0.0147\n",
            "Epoch 2/10\n",
            "129/129 [==============================] - 0s 2ms/step - loss: 1.4044e-04\n",
            "Epoch 3/10\n",
            "129/129 [==============================] - 0s 2ms/step - loss: 1.2698e-04\n",
            "Epoch 4/10\n",
            "129/129 [==============================] - 0s 2ms/step - loss: 1.1198e-04\n",
            "Epoch 5/10\n",
            "129/129 [==============================] - 0s 2ms/step - loss: 9.1674e-05\n",
            "Epoch 6/10\n",
            "129/129 [==============================] - 0s 2ms/step - loss: 9.4090e-05\n",
            "Epoch 7/10\n",
            "129/129 [==============================] - 0s 2ms/step - loss: 7.8624e-05\n",
            "Epoch 8/10\n",
            "129/129 [==============================] - 0s 2ms/step - loss: 9.0911e-05\n",
            "Epoch 9/10\n",
            "129/129 [==============================] - 0s 2ms/step - loss: 7.8250e-05\n",
            "Epoch 10/10\n",
            "129/129 [==============================] - 0s 2ms/step - loss: 7.7995e-05\n"
          ]
        },
        {
          "output_type": "execute_result",
          "data": {
            "text/plain": [
              "<keras.callbacks.History at 0x7f8ed366d390>"
            ]
          },
          "metadata": {},
          "execution_count": 32
        }
      ]
    },
    {
      "cell_type": "code",
      "source": [
        "model.summary()"
      ],
      "metadata": {
        "colab": {
          "base_uri": "https://localhost:8080/"
        },
        "id": "g4nvJ1miqAbF",
        "outputId": "75d9fca7-1627-45db-d346-78b488651c9c"
      },
      "execution_count": null,
      "outputs": [
        {
          "output_type": "stream",
          "name": "stdout",
          "text": [
            "Model: \"sequential_1\"\n",
            "_________________________________________________________________\n",
            " Layer (type)                Output Shape              Param #   \n",
            "=================================================================\n",
            " flatten_1 (Flatten)         (None, 20)                0         \n",
            "                                                                 \n",
            " dense_3 (Dense)             (None, 32)                672       \n",
            "                                                                 \n",
            " activation_3 (Activation)   (None, 32)                0         \n",
            "                                                                 \n",
            " dense_4 (Dense)             (None, 32)                1056      \n",
            "                                                                 \n",
            " activation_4 (Activation)   (None, 32)                0         \n",
            "                                                                 \n",
            " dense_5 (Dense)             (None, 32)                1056      \n",
            "                                                                 \n",
            " activation_5 (Activation)   (None, 32)                0         \n",
            "                                                                 \n",
            " dense_6 (Dense)             (None, 32)                1056      \n",
            "                                                                 \n",
            " activation_6 (Activation)   (None, 32)                0         \n",
            "                                                                 \n",
            " dense_7 (Dense)             (None, 32)                1056      \n",
            "                                                                 \n",
            " activation_7 (Activation)   (None, 32)                0         \n",
            "                                                                 \n",
            " dense_8 (Dense)             (None, 1)                 33        \n",
            "                                                                 \n",
            " activation_8 (Activation)   (None, 1)                 0         \n",
            "                                                                 \n",
            "=================================================================\n",
            "Total params: 4,929\n",
            "Trainable params: 4,929\n",
            "Non-trainable params: 0\n",
            "_________________________________________________________________\n"
          ]
        }
      ]
    },
    {
      "cell_type": "code",
      "metadata": {
        "colab": {
          "base_uri": "https://localhost:8080/",
          "height": 1000
        },
        "id": "mBi3_7YD5_Sb",
        "outputId": "1ffcaae8-a7ba-4203-89d2-a4e015cc6320"
      },
      "source": [
        "# Generate predicted y values as rates.\n",
        "predicted_y = model.predict(X_test)\n",
        "Row_predicted_y = sc.inverse_transform(predicted_y)\n",
        "Row_Y_test = sc.inverse_transform(Y_test)\n",
        "\n",
        "# For checking minimum gap and maximum gap\n",
        "print(Row_predicted_y)\n",
        "print(Row_Y_test)\n",
        "min, max = 9999, 0\n",
        "for p, t in zip(Row_predicted_y, Row_Y_test):\n",
        "  gap = abs(p - t)\n",
        "  if gap < min: min = gap\n",
        "  if gap > max: max = gap\n",
        "print(\"min is\", min)\n",
        "print(\"max is\", max)\n",
        "\n",
        "\n",
        "# Evaluate mean square errors. The smaller is the better\n",
        "from sklearn.metrics import mean_squared_error\n",
        "MSE = mean_squared_error(Row_Y_test, Row_predicted_y)\n",
        "\n",
        "# Create X labels\n",
        "date = pd.read_csv(HIST_PATH, header=1, usecols=[0], date_parser=True)\n",
        "split_index = int(len(prices) * 0.5)\n",
        "date_np = date[split_index:].to_numpy()\n",
        "date_np = date_np[:len(Row_Y_test)]\n",
        "xlabels = []\n",
        "for i in range(0, len(date_np), len(date_np) // 9):\n",
        "  xlabels.append(date_np[i])\n",
        "xlabels = np.array(xlabels)\n",
        "\n",
        "\n",
        "# plot the result\n",
        "fig, ax = plt.subplots()\n",
        "\n",
        "# Show actual chart\n",
        "ax.plot(np.arange(len(Row_Y_test)), Row_Y_test, label=\"real\")\n",
        "# Show prediction chart\n",
        "ax.plot(np.arange(len(Row_Y_test)), Row_predicted_y, label=\"predicted_value\")\n",
        "fig.set_size_inches(18.5, 10.5)\n",
        "\n",
        "ax.set_xticklabels(xlabels, rotation=90, fontsize=18)\n",
        "plt.tick_params(labelsize=18)\n",
        "\n",
        "\n",
        "# showing legends more bigger\n",
        "ax.legend(prop={'size': 30})\n",
        "\n",
        "# measuring the runtime\n",
        "end_time = time.process_time()\n",
        "runtime = end_time - start_time\n",
        "\n",
        "\n",
        "# score\n",
        "score = MSE * runtime\n",
        "print(\"MSE \", MSE, \"\\nprocess_time\", runtime, \"\\nscore \", score)"
      ],
      "execution_count": null,
      "outputs": [
        {
          "output_type": "stream",
          "name": "stdout",
          "text": [
            "[[114.91931 ]\n",
            " [115.632095]\n",
            " [116.32182 ]\n",
            " ...\n",
            " [110.6243  ]\n",
            " [110.32729 ]\n",
            " [110.0054  ]]\n",
            "[[116.13  ]\n",
            " [115.88  ]\n",
            " [115.77  ]\n",
            " ...\n",
            " [109.685 ]\n",
            " [109.9945]\n",
            " [110.053 ]]\n",
            "min is [4.11987305e-05]\n",
            "max is [16.51222839]\n",
            "MSE  4.109381382077026 \n",
            "process_time 4.775725375 \n",
            "score  19.625276941937823\n"
          ]
        },
        {
          "output_type": "display_data",
          "data": {
            "image/png": "[encoded data removed]",
            "text/plain": [
              "<Figure size 1332x756 with 1 Axes>"
            ]
          },
          "metadata": {
            "needs_background": "light"
          }
        }
      ]
    },
    {
      "cell_type": "code",
      "source": [
        "# add result to ranking\n",
        "series = pd.Series([name, score, MSE, runtime, INPUT_LEN, EPOCHS, BATCH_SIZE, numOfHiddenLayers], index=df_ranking.columns)\n",
        "print(series)\n",
        "df_ranking = df_ranking.append(series, ignore_index=True)\n",
        "df_ranking = df_ranking.sort_values(by=['score'])\n",
        "df_ranking = df_ranking.drop_duplicates()\n",
        "display(df_ranking)\n",
        "df_ranking.to_csv(RANKING_PATH,index=False)"
      ],
      "metadata": {
        "colab": {
          "base_uri": "https://localhost:8080/",
          "height": 396
        },
        "id": "n7D9SpLRQo1w",
        "outputId": "6bedeb96-147c-471a-ba06-c5d00652bbc5"
      },
      "execution_count": null,
      "outputs": [
        {
          "output_type": "stream",
          "name": "stdout",
          "text": [
            "name                lauren\n",
            "score            19.625277\n",
            "MSE               4.109381\n",
            "runtime           4.775725\n",
            "input len               20\n",
            "epochs                  10\n",
            "batch size              50\n",
            "hidden layers            5\n",
            "dtype: object\n"
          ]
        },
        {
          "output_type": "display_data",
          "data": {
            "application/vnd.google.colaboratory.module+javascript": "\n      import \"https://ssl.gstatic.com/colaboratory/data_table/81f25a011006ed3d/data_table.js\";\n\n      window.createDataTable({\n        data: [[{\n            'v': 0,\n            'f': \"0\",\n        },\n\"Hiro test5\",\n{\n            'v': 11.94041342733246,\n            'f': \"11.94041342733246\",\n        },\n{\n            'v': 2.0321547546736687,\n            'f': \"2.0321547546736687\",\n        },\n{\n            'v': 5.875740220999999,\n            'f': \"5.875740220999999\",\n        },\n{\n            'v': 15,\n            'f': \"15\",\n        },\n{\n            'v': 5,\n            'f': \"5\",\n        },\n{\n            'v': 32,\n            'f': \"32\",\n        },\n{\n            'v': 2,\n            'f': \"2\",\n        }],\n [{\n            'v': 1,\n            'f': \"1\",\n        },\n\"Hiro test2\",\n{\n            'v': 12.668916403649693,\n            'f': \"12.668916403649693\",\n        },\n{\n            'v': 1.6145385771520389,\n            'f': \"1.6145385771520389\",\n        },\n{\n            'v': 7.846772187999987,\n            'f': \"7.846772187999987\",\n        },\n{\n            'v': 10,\n            'f': \"10\",\n        },\n{\n            'v': 5,\n            'f': \"5\",\n        },\n{\n            'v': 10,\n            'f': \"10\",\n        },\n{\n            'v': 3,\n            'f': \"3\",\n        }],\n [{\n            'v': 2,\n            'f': \"2\",\n        },\n\"Hiro test6\",\n{\n            'v': 12.672962734197172,\n            'f': \"12.672962734197172\",\n        },\n{\n            'v': 2.0321547546736687,\n            'f': \"2.0321547546736687\",\n        },\n{\n            'v': 6.236219316,\n            'f': \"6.236219316\",\n        },\n{\n            'v': 15,\n            'f': \"15\",\n        },\n{\n            'v': 5,\n            'f': \"5\",\n        },\n{\n            'v': 32,\n            'f': \"32\",\n        },\n{\n            'v': 2,\n            'f': \"2\",\n        }],\n [{\n            'v': 6,\n            'f': \"6\",\n        },\n\"lauren\",\n{\n            'v': 19.625276941937823,\n            'f': \"19.625276941937823\",\n        },\n{\n            'v': 4.109381382077026,\n            'f': \"4.109381382077026\",\n        },\n{\n            'v': 4.775725375,\n            'f': \"4.775725375\",\n        },\n{\n            'v': 20,\n            'f': \"20\",\n        },\n{\n            'v': 10,\n            'f': \"10\",\n        },\n{\n            'v': 50,\n            'f': \"50\",\n        },\n{\n            'v': 5,\n            'f': \"5\",\n        }],\n [{\n            'v': 3,\n            'f': \"3\",\n        },\n\"Hiro test3\",\n{\n            'v': 19.770040776399505,\n            'f': \"19.770040776399505\",\n        },\n{\n            'v': 1.7275217130202638,\n            'f': \"1.7275217130202638\",\n        },\n{\n            'v': 11.444163409000002,\n            'f': \"11.444163409000002\",\n        },\n{\n            'v': 20,\n            'f': \"20\",\n        },\n{\n            'v': 10,\n            'f': \"10\",\n        },\n{\n            'v': 20,\n            'f': \"20\",\n        },\n{\n            'v': 20,\n            'f': \"20\",\n        }],\n [{\n            'v': 4,\n            'f': \"4\",\n        },\n\"Hiro test1\",\n{\n            'v': 29.605779900078684,\n            'f': \"29.605779900078684\",\n        },\n{\n            'v': 2.331351677136347,\n            'f': \"2.331351677136347\",\n        },\n{\n            'v': 12.698976388000004,\n            'f': \"12.698976388000004\",\n        },\n{\n            'v': 2,\n            'f': \"2\",\n        },\n{\n            'v': 2,\n            'f': \"2\",\n        },\n{\n            'v': 2,\n            'f': \"2\",\n        },\n{\n            'v': 2,\n            'f': \"2\",\n        }],\n [{\n            'v': 5,\n            'f': \"5\",\n        },\n\"Hiro test4\",\n{\n            'v': 690.1928476383644,\n            'f': \"690.1928476383644\",\n        },\n{\n            'v': 4.015501828180341,\n            'f': \"4.015501828180341\",\n        },\n{\n            'v': 171.882090252,\n            'f': \"171.882090252\",\n        },\n{\n            'v': 10,\n            'f': \"10\",\n        },\n{\n            'v': 100,\n            'f': \"100\",\n        },\n{\n            'v': 10,\n            'f': \"10\",\n        },\n{\n            'v': 5,\n            'f': \"5\",\n        }]],\n        columns: [[\"number\", \"index\"], [\"string\", \"name\"], [\"number\", \"score\"], [\"number\", \"MSE\"], [\"number\", \"runtime\"], [\"number\", \"input len\"], [\"number\", \"epochs\"], [\"number\", \"batch size\"], [\"number\", \"hidden layers\"]],\n        columnOptions: [{\"width\": \"1px\", \"className\": \"index_column\"}],\n        rowsPerPage: 25,\n        helpUrl: \"https://colab.research.google.com/notebooks/data_table.ipynb\",\n        suppressOutputScrolling: true,\n        minimumWidth: undefined,\n      });\n    ",
            "text/html": [
              "\n",
              "  <div id=\"df-671de5b2-9c77-4052-9706-b27b4ffb1422\">\n",
              "    <div class=\"colab-df-container\">\n",
              "      <div>\n",
              "<style scoped>\n",
              "    .dataframe tbody tr th:only-of-type {\n",
              "        vertical-align: middle;\n",
              "    }\n",
              "\n",
              "    .dataframe tbody tr th {\n",
              "        vertical-align: top;\n",
              "    }\n",
              "\n",
              "    .dataframe thead th {\n",
              "        text-align: right;\n",
              "    }\n",
              "</style>\n",
              "<table border=\"1\" class=\"dataframe\">\n",
              "  <thead>\n",
              "    <tr style=\"text-align: right;\">\n",
              "      <th></th>\n",
              "      <th>name</th>\n",
              "      <th>score</th>\n",
              "      <th>MSE</th>\n",
              "      <th>runtime</th>\n",
              "      <th>input len</th>\n",
              "      <th>epochs</th>\n",
              "      <th>batch size</th>\n",
              "      <th>hidden layers</th>\n",
              "    </tr>\n",
              "  </thead>\n",
              "  <tbody>\n",
              "    <tr>\n",
              "      <th>0</th>\n",
              "      <td>Hiro test5</td>\n",
              "      <td>11.940413</td>\n",
              "      <td>2.032155</td>\n",
              "      <td>5.875740</td>\n",
              "      <td>15</td>\n",
              "      <td>5</td>\n",
              "      <td>32</td>\n",
              "      <td>2</td>\n",
              "    </tr>\n",
              "    <tr>\n",
              "      <th>1</th>\n",
              "      <td>Hiro test2</td>\n",
              "      <td>12.668916</td>\n",
              "      <td>1.614539</td>\n",
              "      <td>7.846772</td>\n",
              "      <td>10</td>\n",
              "      <td>5</td>\n",
              "      <td>10</td>\n",
              "      <td>3</td>\n",
              "    </tr>\n",
              "    <tr>\n",
              "      <th>2</th>\n",
              "      <td>Hiro test6</td>\n",
              "      <td>12.672963</td>\n",
              "      <td>2.032155</td>\n",
              "      <td>6.236219</td>\n",
              "      <td>15</td>\n",
              "      <td>5</td>\n",
              "      <td>32</td>\n",
              "      <td>2</td>\n",
              "    </tr>\n",
              "    <tr>\n",
              "      <th>6</th>\n",
              "      <td>lauren</td>\n",
              "      <td>19.625277</td>\n",
              "      <td>4.109381</td>\n",
              "      <td>4.775725</td>\n",
              "      <td>20</td>\n",
              "      <td>10</td>\n",
              "      <td>50</td>\n",
              "      <td>5</td>\n",
              "    </tr>\n",
              "    <tr>\n",
              "      <th>3</th>\n",
              "      <td>Hiro test3</td>\n",
              "      <td>19.770041</td>\n",
              "      <td>1.727522</td>\n",
              "      <td>11.444163</td>\n",
              "      <td>20</td>\n",
              "      <td>10</td>\n",
              "      <td>20</td>\n",
              "      <td>20</td>\n",
              "    </tr>\n",
              "    <tr>\n",
              "      <th>4</th>\n",
              "      <td>Hiro test1</td>\n",
              "      <td>29.605780</td>\n",
              "      <td>2.331352</td>\n",
              "      <td>12.698976</td>\n",
              "      <td>2</td>\n",
              "      <td>2</td>\n",
              "      <td>2</td>\n",
              "      <td>2</td>\n",
              "    </tr>\n",
              "    <tr>\n",
              "      <th>5</th>\n",
              "      <td>Hiro test4</td>\n",
              "      <td>690.192848</td>\n",
              "      <td>4.015502</td>\n",
              "      <td>171.882090</td>\n",
              "      <td>10</td>\n",
              "      <td>100</td>\n",
              "      <td>10</td>\n",
              "      <td>5</td>\n",
              "    </tr>\n",
              "  </tbody>\n",
              "</table>\n",
              "</div>\n",
              "      <button class=\"colab-df-convert\" onclick=\"convertToInteractive('df-671de5b2-9c77-4052-9706-b27b4ffb1422')\"\n",
              "              title=\"Convert this dataframe to an interactive table.\"\n",
              "              style=\"display:none;\">\n",
              "        \n",
              "  <svg xmlns=\"http://www.w3.org/2000/svg\" height=\"24px\"viewBox=\"0 0 24 24\"\n",
              "       width=\"24px\">\n",
              "    <path d=\"M0 0h24v24H0V0z\" fill=\"none\"/>\n",
              "    <path d=\"M18.56 5.44l.94 2.06.94-2.06 2.06-.94-2.06-.94-.94-2.06-.94 2.06-2.06.94zm-11 1L8.5 8.5l.94-2.06 2.06-.94-2.06-.94L8.5 2.5l-.94 2.06-2.06.94zm10 10l.94 2.06.94-2.06 2.06-.94-2.06-.94-.94-2.06-.94 2.06-2.06.94z\"/><path d=\"M17.41 7.96l-1.37-1.37c-.4-.4-.92-.59-1.43-.59-.52 0-1.04.2-1.43.59L10.3 9.45l-7.72 7.72c-.78.78-.78 2.05 0 2.83L4 21.41c.39.39.9.59 1.41.59.51 0 1.02-.2 1.41-.59l7.78-7.78 2.81-2.81c.8-.78.8-2.07 0-2.86zM5.41 20L4 18.59l7.72-7.72 1.47 1.35L5.41 20z\"/>\n",
              "  </svg>\n",
              "      </button>\n",
              "      \n",
              "  <style>\n",
              "    .colab-df-container {\n",
              "      display:flex;\n",
              "      flex-wrap:wrap;\n",
              "      gap: 12px;\n",
              "    }\n",
              "\n",
              "    .colab-df-convert {\n",
              "      background-color: #E8F0FE;\n",
              "      border: none;\n",
              "      border-radius: 50%;\n",
              "      cursor: pointer;\n",
              "      display: none;\n",
              "      fill: #1967D2;\n",
              "      height: 32px;\n",
              "      padding: 0 0 0 0;\n",
              "      width: 32px;\n",
              "    }\n",
              "\n",
              "    .colab-df-convert:hover {\n",
              "      background-color: #E2EBFA;\n",
              "      box-shadow: 0px 1px 2px rgba(60, 64, 67, 0.3), 0px 1px 3px 1px rgba(60, 64, 67, 0.15);\n",
              "      fill: #174EA6;\n",
              "    }\n",
              "\n",
              "    [theme=dark] .colab-df-convert {\n",
              "      background-color: #3B4455;\n",
              "      fill: #D2E3FC;\n",
              "    }\n",
              "\n",
              "    [theme=dark] .colab-df-convert:hover {\n",
              "      background-color: #434B5C;\n",
              "      box-shadow: 0px 1px 3px 1px rgba(0, 0, 0, 0.15);\n",
              "      filter: drop-shadow(0px 1px 2px rgba(0, 0, 0, 0.3));\n",
              "      fill: #FFFFFF;\n",
              "    }\n",
              "  </style>\n",
              "\n",
              "      <script>\n",
              "        const buttonEl =\n",
              "          document.querySelector('#df-671de5b2-9c77-4052-9706-b27b4ffb1422 button.colab-df-convert');\n",
              "        buttonEl.style.display =\n",
              "          google.colab.kernel.accessAllowed ? 'block' : 'none';\n",
              "\n",
              "        async function convertToInteractive(key) {\n",
              "          const element = document.querySelector('#df-671de5b2-9c77-4052-9706-b27b4ffb1422');\n",
              "          const dataTable =\n",
              "            await google.colab.kernel.invokeFunction('convertToInteractive',\n",
              "                                                     [key], {});\n",
              "          if (!dataTable) return;\n",
              "\n",
              "          const docLinkHtml = 'Like what you see? Visit the ' +\n",
              "            '<a target=\"_blank\" href=https://colab.research.google.com/notebooks/data_table.ipynb>data table notebook</a>'\n",
              "            + ' to learn more about interactive tables.';\n",
              "          element.innerHTML = '';\n",
              "          dataTable['output_type'] = 'display_data';\n",
              "          await google.colab.output.renderOutput(dataTable, element);\n",
              "          const docLink = document.createElement('div');\n",
              "          docLink.innerHTML = docLinkHtml;\n",
              "          element.appendChild(docLink);\n",
              "        }\n",
              "      </script>\n",
              "    </div>\n",
              "  </div>\n",
              "  "
            ],
            "text/plain": [
              "         name       score       MSE  ...  epochs  batch size  hidden layers\n",
              "0  Hiro test5   11.940413  2.032155  ...       5          32              2\n",
              "1  Hiro test2   12.668916  1.614539  ...       5          10              3\n",
              "2  Hiro test6   12.672963  2.032155  ...       5          32              2\n",
              "6      lauren   19.625277  4.109381  ...      10          50              5\n",
              "3  Hiro test3   19.770041  1.727522  ...      10          20             20\n",
              "4  Hiro test1   29.605780  2.331352  ...       2           2              2\n",
              "5  Hiro test4  690.192848  4.015502  ...     100          10              5\n",
              "\n",
              "[7 rows x 8 columns]"
            ]
          },
          "metadata": {}
        }
      ]
    }
  ]
}